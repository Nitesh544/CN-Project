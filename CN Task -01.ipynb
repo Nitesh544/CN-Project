{
 "cells": [
  {
   "cell_type": "markdown",
   "id": "42c4977f",
   "metadata": {},
   "source": [
    "# Shinobi Password Generator"
   ]
  },
  {
   "cell_type": "code",
   "execution_count": null,
   "id": "480ab5f3",
   "metadata": {},
   "outputs": [],
   "source": [
    "from tkinter import *"
   ]
  },
  {
   "cell_type": "code",
   "execution_count": 36,
   "id": "8170b138",
   "metadata": {},
   "outputs": [],
   "source": [
    "root = Tk()\n",
    "root.title(\"Shinobi Password Generator\")\n",
    "root.geometry(\"600x250\")\n",
    "root['background']='#58f'\n",
    "passln = IntVar()\n",
    "keyw= StringVar()\n",
    "passw= StringVar()\n",
    "\n",
    "def passgen():\n",
    "    Uset=['!','@','#','$','%','^','&','*','a','b','c','d','e','f','g','h','i','j','k','l','m','n','o','p','q','r','s','t','u','v','w','x','y','z','A','B','C','D','E','F','G','H','I','J','K','L','M','N','O','P','Q','R','S','T','U','V','W','X','Y','Z','0','1','2','3','4','5','6','7','8','9']\n",
    "    password=keyw.get()\n",
    "    import random\n",
    "    l=passln.get()\n",
    "    for i in range (l-4):\n",
    "        password+= random.choice(Uset)\n",
    "    with open('password.txt','a') as t:\n",
    "        t.write(password+ \"\\n\")\n",
    "    \n",
    "    passw.set(password)\n",
    "    \n",
    "Label(root, text=\"Welcome to Password Generator\",font=\"comicsansms 20 bold\", bg='#fff',fg='#f00').grid()\n",
    "Label(root, text=\"Enter password length\").grid(row=1,column=0, pady=20)\n",
    "Label(root, text=\"Enter 4 Chracter long Keyword\").grid(row=2,column=0)\n",
    "Entry1=Entry(root, textvariable=passln,relief=\"sunken\").grid(row=1,column=1)\n",
    "Entry2=Entry(root, textvariable=keyw,relief=\"sunken\").grid(row=2,column=1)\n",
    "\n",
    "Button(root, text=\"Generate Password\", command=passgen, bg='#000',fg='#ff0',relief=\"raised\").grid(row=5,column=0,pady=10)\n",
    "Entry3=Entry(root, textvariable=passw,relief=\"sunken\").grid(row=5,column=1)\n",
    "\n",
    "keyw2= StringVar()\n",
    "passw2= StringVar()\n",
    "def seepass():\n",
    "    key= keyw2.get()\n",
    "    with open('password.txt','r') as t:\n",
    "        for i in t.readlines():\n",
    "            if key in i :\n",
    "                passw2.set(i)\n",
    "\n",
    "Label(root, text=\"Plese enter the Keyword , to see password\").grid(row=8,column=0, pady=10)\n",
    "Entry4=Entry(root, textvariable=keyw2, show ='*',relief=\"sunken\").grid(row=8,column=1)\n",
    "Button(root, text=\"View Password\", command=seepass,bg='#000',fg='#ff0',relief='raised').grid(row=10,column=0, pady=5)\n",
    "Entry5=Entry(root, textvariable=passw2,relief=\"sunken\").grid(row=10,column=1)\n",
    "\n",
    "\n",
    "root.mainloop()"
   ]
  },
  {
   "cell_type": "code",
   "execution_count": null,
   "id": "d650d788",
   "metadata": {},
   "outputs": [],
   "source": []
  }
 ],
 "metadata": {
  "kernelspec": {
   "display_name": "Python 3",
   "language": "python",
   "name": "python3"
  },
  "language_info": {
   "codemirror_mode": {
    "name": "ipython",
    "version": 3
   },
   "file_extension": ".py",
   "mimetype": "text/x-python",
   "name": "python",
   "nbconvert_exporter": "python",
   "pygments_lexer": "ipython3",
   "version": "3.8.8"
  }
 },
 "nbformat": 4,
 "nbformat_minor": 5
}
